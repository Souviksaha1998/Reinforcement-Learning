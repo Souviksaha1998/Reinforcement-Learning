{
  "nbformat": 4,
  "nbformat_minor": 0,
  "metadata": {
    "colab": {
      "provenance": []
    },
    "kernelspec": {
      "name": "python3",
      "display_name": "Python 3"
    },
    "language_info": {
      "name": "python"
    }
  },
  "cells": [
    {
      "cell_type": "code",
      "execution_count": null,
      "metadata": {
        "id": "9-cNVZHlUXUG"
      },
      "outputs": [],
      "source": [
        "import numpy as np"
      ]
    },
    {
      "cell_type": "code",
      "source": [
        "# define Q table\n",
        "rows = 5\n",
        "cols = 5\n",
        "actions = 4\n",
        "\n",
        "Q_table = np.zeros((rows,cols,actions))"
      ],
      "metadata": {
        "id": "rClYEIHEUdO9"
      },
      "execution_count": null,
      "outputs": []
    },
    {
      "cell_type": "code",
      "source": [
        "Q_table"
      ],
      "metadata": {
        "colab": {
          "base_uri": "https://localhost:8080/"
        },
        "id": "QZGM8vYyVAH1",
        "outputId": "c2d96929-47de-4def-8acf-a25bcdef78a0"
      },
      "execution_count": null,
      "outputs": [
        {
          "output_type": "execute_result",
          "data": {
            "text/plain": [
              "array([[[0., 0., 0., 0.],\n",
              "        [0., 0., 0., 0.],\n",
              "        [0., 0., 0., 0.],\n",
              "        [0., 0., 0., 0.],\n",
              "        [0., 0., 0., 0.]],\n",
              "\n",
              "       [[0., 0., 0., 0.],\n",
              "        [0., 0., 0., 0.],\n",
              "        [0., 0., 0., 0.],\n",
              "        [0., 0., 0., 0.],\n",
              "        [0., 0., 0., 0.]],\n",
              "\n",
              "       [[0., 0., 0., 0.],\n",
              "        [0., 0., 0., 0.],\n",
              "        [0., 0., 0., 0.],\n",
              "        [0., 0., 0., 0.],\n",
              "        [0., 0., 0., 0.]],\n",
              "\n",
              "       [[0., 0., 0., 0.],\n",
              "        [0., 0., 0., 0.],\n",
              "        [0., 0., 0., 0.],\n",
              "        [0., 0., 0., 0.],\n",
              "        [0., 0., 0., 0.]],\n",
              "\n",
              "       [[0., 0., 0., 0.],\n",
              "        [0., 0., 0., 0.],\n",
              "        [0., 0., 0., 0.],\n",
              "        [0., 0., 0., 0.],\n",
              "        [0., 0., 0., 0.]]])"
            ]
          },
          "metadata": {},
          "execution_count": 3
        }
      ]
    },
    {
      "cell_type": "code",
      "source": [
        "actions = ['up','down','left','right']"
      ],
      "metadata": {
        "id": "c5yGueAPVJy7"
      },
      "execution_count": null,
      "outputs": []
    },
    {
      "cell_type": "code",
      "source": [
        "rewards = np.full((rows,cols),-1)"
      ],
      "metadata": {
        "id": "ykDA-x5wVkvl"
      },
      "execution_count": null,
      "outputs": []
    },
    {
      "cell_type": "code",
      "source": [
        "rewards[0,2] = 1\n",
        "rewards[1,1] = -50\n",
        "rewards[3,2] = -50\n",
        "rewards[0,1] = -50\n",
        "rewards[4,2] = -50\n",
        "rewards[4,3] = -50\n",
        "rewards[0,3] = -50\n",
        "rewards[0,4] = -50\n",
        "print(rewards)"
      ],
      "metadata": {
        "colab": {
          "base_uri": "https://localhost:8080/"
        },
        "id": "FsbywKwjV_Gd",
        "outputId": "1a4a2e89-931a-4dbd-a53b-c234f3da3f54"
      },
      "execution_count": null,
      "outputs": [
        {
          "output_type": "stream",
          "name": "stdout",
          "text": [
            "[[ -1 -50   1 -50 -50]\n",
            " [ -1 -50  -1  -1  -1]\n",
            " [ -1  -1  -1  -1  -1]\n",
            " [ -1  -1 -50  -1  -1]\n",
            " [ -1  -1 -50 -50  -1]]\n"
          ]
        }
      ]
    },
    {
      "cell_type": "code",
      "source": [
        "# start_location()"
      ],
      "metadata": {
        "colab": {
          "base_uri": "https://localhost:8080/"
        },
        "id": "7Sx9_7DjWk8-",
        "outputId": "4052418b-ca9a-4beb-e0a3-2493a045f8f5"
      },
      "execution_count": null,
      "outputs": [
        {
          "output_type": "execute_result",
          "data": {
            "text/plain": [
              "(0, 0)"
            ]
          },
          "metadata": {},
          "execution_count": 8
        }
      ]
    },
    {
      "cell_type": "code",
      "source": [
        "np.random.randint(3)"
      ],
      "metadata": {
        "colab": {
          "base_uri": "https://localhost:8080/"
        },
        "id": "om8hI8Gy9PJV",
        "outputId": "e78cf591-2efe-49b2-8683-fd77702ae696"
      },
      "execution_count": null,
      "outputs": [
        {
          "output_type": "execute_result",
          "data": {
            "text/plain": [
              "0"
            ]
          },
          "metadata": {},
          "execution_count": 9
        }
      ]
    },
    {
      "cell_type": "code",
      "source": [
        "def is_terminal_state(row,col):\n",
        "  if rewards[row,col] == -1:\n",
        "    return False\n",
        "  else:\n",
        "    return True"
      ],
      "metadata": {
        "id": "xmrSWXThWpzl"
      },
      "execution_count": null,
      "outputs": []
    },
    {
      "cell_type": "code",
      "source": [
        "def start_location():\n",
        "  row_ = np.random.randint(rows)\n",
        "  col_ = np.random.randint(cols)\n",
        "  while is_terminal_state(row_,col_):\n",
        "    row_ = np.random.randint(rows)\n",
        "    col_ = np.random.randint(cols)\n",
        "  return row_ , col_"
      ],
      "metadata": {
        "id": "m7zIJ5cppV9p"
      },
      "execution_count": null,
      "outputs": []
    },
    {
      "cell_type": "code",
      "source": [
        "x,y = start_location()\n",
        "print(f'start location : {x},{y}')\n",
        "print(f'Terminal state : {is_terminal_state(x,y)}')"
      ],
      "metadata": {
        "colab": {
          "base_uri": "https://localhost:8080/"
        },
        "id": "n1Pmjd8EXY9P",
        "outputId": "a6c74204-9b49-4cae-9d9b-06c6b0c9190d"
      },
      "execution_count": null,
      "outputs": [
        {
          "output_type": "stream",
          "name": "stdout",
          "text": [
            "start location : 1,4\n",
            "Terminal state : False\n"
          ]
        }
      ]
    },
    {
      "cell_type": "code",
      "source": [
        "# choose action\n",
        "\n",
        "def action_select(row,col,epsilon):\n",
        "  row_ = row\n",
        "  col_ = col\n",
        "  if np.random.random() < epsilon:\n",
        "    return np.argmax(Q_table[row_,col_]) # index\n",
        "  else:\n",
        "    return np.random.randint(4) # it will return index\n"
      ],
      "metadata": {
        "id": "-z_zv6oTXglG"
      },
      "execution_count": null,
      "outputs": []
    },
    {
      "cell_type": "code",
      "source": [
        "val =action_select(2,2,0.9)\n",
        "print(val)"
      ],
      "metadata": {
        "colab": {
          "base_uri": "https://localhost:8080/"
        },
        "id": "qViy56kBpx2m",
        "outputId": "bf07d2c6-f08f-4799-dc10-4244af02eee5"
      },
      "execution_count": null,
      "outputs": [
        {
          "output_type": "stream",
          "name": "stdout",
          "text": [
            "0\n"
          ]
        }
      ]
    },
    {
      "cell_type": "code",
      "source": [
        "actions"
      ],
      "metadata": {
        "colab": {
          "base_uri": "https://localhost:8080/"
        },
        "id": "gp-937frsPHi",
        "outputId": "961e65b5-5433-4feb-ae25-f530e8050572"
      },
      "execution_count": null,
      "outputs": [
        {
          "output_type": "execute_result",
          "data": {
            "text/plain": [
              "['up', 'down', 'left', 'right']"
            ]
          },
          "metadata": {},
          "execution_count": 14
        }
      ]
    },
    {
      "cell_type": "code",
      "source": [
        "rewards[2,0]"
      ],
      "metadata": {
        "colab": {
          "base_uri": "https://localhost:8080/"
        },
        "id": "s6NhSobeu4FQ",
        "outputId": "61f9954b-dcf0-4029-bac2-1c89cf0ade6b"
      },
      "execution_count": null,
      "outputs": [
        {
          "output_type": "execute_result",
          "data": {
            "text/plain": [
              "-1"
            ]
          },
          "metadata": {},
          "execution_count": 13
        }
      ]
    },
    {
      "cell_type": "code",
      "source": [
        "def next_location(current_row,current_col,index):\n",
        "  # row_ , col_ = current_row , current_col\n",
        "  if actions[index] == 'up' and current_row > 0:\n",
        "    current_row -= 1\n",
        "  elif actions[index] == 'down' and rows -2 >= current_row >= 0:\n",
        "    current_row += 1\n",
        "  elif actions[index] == 'left' and current_col != 0:\n",
        "    current_col -= 1\n",
        "  elif actions[index] == 'right' and  current_col != rows -1:\n",
        "    current_col += 1\n",
        "\n",
        "  return current_row , current_col\n"
      ],
      "metadata": {
        "id": "AC9pngY8rXwJ"
      },
      "execution_count": null,
      "outputs": []
    },
    {
      "cell_type": "code",
      "source": [
        "rows , cols = next_location(0,2,3)\n",
        "print(f'next row {rows} , cols : {cols}')"
      ],
      "metadata": {
        "colab": {
          "base_uri": "https://localhost:8080/"
        },
        "id": "RmI4X_mnxdKG",
        "outputId": "aefe2b35-abb3-4795-84ae-c5c5b4f9e168"
      },
      "execution_count": null,
      "outputs": [
        {
          "output_type": "stream",
          "name": "stdout",
          "text": [
            "next row 0 , cols : 3\n"
          ]
        }
      ]
    },
    {
      "cell_type": "code",
      "source": [
        "def shortest_path(row,col):\n",
        "\n",
        "  if is_terminal_state(row,col):\n",
        "    return []\n",
        "  else:\n",
        "    l = []\n",
        "    currentR , currentC = row , col\n",
        "    l.append([currentR , currentC])\n",
        "    while not is_terminal_state(currentR , currentC):\n",
        "      action_index = action_select(currentR , currentC,1)\n",
        "      currentR , currentC = next_location(currentR , currentC , action_index)\n",
        "      l.append([currentR , currentC])\n",
        "\n",
        "    return l\n",
        "\n"
      ],
      "metadata": {
        "id": "gD2T9QCd0stH"
      },
      "execution_count": null,
      "outputs": []
    },
    {
      "cell_type": "code",
      "source": [
        "next_location(0,1,0)"
      ],
      "metadata": {
        "colab": {
          "base_uri": "https://localhost:8080/"
        },
        "id": "utq7hq4qAfyt",
        "outputId": "1fa9ba10-3273-4f31-961a-ea662f92736f"
      },
      "execution_count": null,
      "outputs": [
        {
          "output_type": "execute_result",
          "data": {
            "text/plain": [
              "(0, 1)"
            ]
          },
          "metadata": {},
          "execution_count": 180
        }
      ]
    },
    {
      "cell_type": "code",
      "source": [
        "# training\n",
        "epsilon = 0.9\n",
        "discount = 0.9\n",
        "lr = 0.9\n",
        "\n",
        "for i in range(1000):\n",
        "  print(f'Episode : {i}')\n",
        "\n",
        "  # choosse a starting location\n",
        "  start_x , start_y = start_location()\n",
        "  print(f'terminal state : {is_terminal_state(start_x,start_y)} start_x {start_x} start y {start_y} ')\n",
        "  while not is_terminal_state(start_x,start_y):\n",
        "\n",
        "    #choose action\n",
        "    action_index = action_select(start_x,start_y,epsilon)\n",
        "\n",
        "    # save the old state x,y\n",
        "    old_row , old_col = start_x, start_y\n",
        "\n",
        "    # print(f'old row : {old_row} old_col : {old_col}')\n",
        "\n",
        "\n",
        "    # after selecting action  go to the perform action to go to the next state\n",
        "    new_x , new_y = next_location(start_x,start_y,action_index)\n",
        "\n",
        "    # print(f'new row : {new_x} new_col : {new_y}')\n",
        "\n",
        "    reward = rewards[new_x,new_y]\n",
        "    old_q_val = Q_table[old_row , old_col,action_index]\n",
        "\n",
        "    temporal_diff = reward + (discount * np.max(Q_table[new_x,new_y])) - old_q_val\n",
        "    update = old_q_val + lr * temporal_diff\n",
        "    print(update)\n",
        "    Q_table[old_row , old_col,action_index] = update\n",
        "    start_x , start_y = new_x , new_y\n",
        "\n",
        "  print('complete')"
      ],
      "metadata": {
        "colab": {
          "base_uri": "https://localhost:8080/",
          "height": 474
        },
        "id": "qOLFuyDK5VrT",
        "outputId": "b570a6e2-ac7b-498f-ce36-4988cd1b929f"
      },
      "execution_count": null,
      "outputs": [
        {
          "output_type": "stream",
          "name": "stdout",
          "text": [
            "Episode : 0\n"
          ]
        },
        {
          "output_type": "error",
          "ename": "ValueError",
          "evalue": "ignored",
          "traceback": [
            "\u001b[0;31m---------------------------------------------------------------------------\u001b[0m",
            "\u001b[0;31mValueError\u001b[0m                                Traceback (most recent call last)",
            "\u001b[0;32m<ipython-input-18-4e18b9e23a8c>\u001b[0m in \u001b[0;36m<cell line: 6>\u001b[0;34m()\u001b[0m\n\u001b[1;32m      8\u001b[0m \u001b[0;34m\u001b[0m\u001b[0m\n\u001b[1;32m      9\u001b[0m   \u001b[0;31m# choosse a starting location\u001b[0m\u001b[0;34m\u001b[0m\u001b[0;34m\u001b[0m\u001b[0m\n\u001b[0;32m---> 10\u001b[0;31m   \u001b[0mstart_x\u001b[0m \u001b[0;34m,\u001b[0m \u001b[0mstart_y\u001b[0m \u001b[0;34m=\u001b[0m \u001b[0mstart_location\u001b[0m\u001b[0;34m(\u001b[0m\u001b[0;34m)\u001b[0m\u001b[0;34m\u001b[0m\u001b[0;34m\u001b[0m\u001b[0m\n\u001b[0m\u001b[1;32m     11\u001b[0m   \u001b[0mprint\u001b[0m\u001b[0;34m(\u001b[0m\u001b[0;34mf'terminal state : {is_terminal_state(start_x,start_y)} start_x {start_x} start y {start_y} '\u001b[0m\u001b[0;34m)\u001b[0m\u001b[0;34m\u001b[0m\u001b[0;34m\u001b[0m\u001b[0m\n\u001b[1;32m     12\u001b[0m   \u001b[0;32mwhile\u001b[0m \u001b[0;32mnot\u001b[0m \u001b[0mis_terminal_state\u001b[0m\u001b[0;34m(\u001b[0m\u001b[0mstart_x\u001b[0m\u001b[0;34m,\u001b[0m\u001b[0mstart_y\u001b[0m\u001b[0;34m)\u001b[0m\u001b[0;34m:\u001b[0m\u001b[0;34m\u001b[0m\u001b[0;34m\u001b[0m\u001b[0m\n",
            "\u001b[0;32m<ipython-input-10-546d677f9e4c>\u001b[0m in \u001b[0;36mstart_location\u001b[0;34m()\u001b[0m\n\u001b[1;32m      1\u001b[0m \u001b[0;32mdef\u001b[0m \u001b[0mstart_location\u001b[0m\u001b[0;34m(\u001b[0m\u001b[0;34m)\u001b[0m\u001b[0;34m:\u001b[0m\u001b[0;34m\u001b[0m\u001b[0;34m\u001b[0m\u001b[0m\n\u001b[0;32m----> 2\u001b[0;31m   \u001b[0mrow_\u001b[0m \u001b[0;34m=\u001b[0m \u001b[0mnp\u001b[0m\u001b[0;34m.\u001b[0m\u001b[0mrandom\u001b[0m\u001b[0;34m.\u001b[0m\u001b[0mrandint\u001b[0m\u001b[0;34m(\u001b[0m\u001b[0mrows\u001b[0m\u001b[0;34m)\u001b[0m\u001b[0;34m\u001b[0m\u001b[0;34m\u001b[0m\u001b[0m\n\u001b[0m\u001b[1;32m      3\u001b[0m   \u001b[0mcol_\u001b[0m \u001b[0;34m=\u001b[0m \u001b[0mnp\u001b[0m\u001b[0;34m.\u001b[0m\u001b[0mrandom\u001b[0m\u001b[0;34m.\u001b[0m\u001b[0mrandint\u001b[0m\u001b[0;34m(\u001b[0m\u001b[0mcols\u001b[0m\u001b[0;34m)\u001b[0m\u001b[0;34m\u001b[0m\u001b[0;34m\u001b[0m\u001b[0m\n\u001b[1;32m      4\u001b[0m   \u001b[0;32mwhile\u001b[0m \u001b[0mis_terminal_state\u001b[0m\u001b[0;34m(\u001b[0m\u001b[0mrow_\u001b[0m\u001b[0;34m,\u001b[0m\u001b[0mcol_\u001b[0m\u001b[0;34m)\u001b[0m\u001b[0;34m:\u001b[0m\u001b[0;34m\u001b[0m\u001b[0;34m\u001b[0m\u001b[0m\n\u001b[1;32m      5\u001b[0m     \u001b[0mrow_\u001b[0m \u001b[0;34m=\u001b[0m \u001b[0mnp\u001b[0m\u001b[0;34m.\u001b[0m\u001b[0mrandom\u001b[0m\u001b[0;34m.\u001b[0m\u001b[0mrandint\u001b[0m\u001b[0;34m(\u001b[0m\u001b[0mrows\u001b[0m\u001b[0;34m)\u001b[0m\u001b[0;34m\u001b[0m\u001b[0;34m\u001b[0m\u001b[0m\n",
            "\u001b[0;32mmtrand.pyx\u001b[0m in \u001b[0;36mnumpy.random.mtrand.RandomState.randint\u001b[0;34m()\u001b[0m\n",
            "\u001b[0;32m_bounded_integers.pyx\u001b[0m in \u001b[0;36mnumpy.random._bounded_integers._rand_int64\u001b[0;34m()\u001b[0m\n",
            "\u001b[0;31mValueError\u001b[0m: high <= 0"
          ]
        }
      ]
    },
    {
      "cell_type": "code",
      "source": [
        "path = shortest_path(0,0)\n",
        "print(f'shortest path : {path}')\n",
        "path.reverse()\n",
        "print(f'Reverse path : {path}')"
      ],
      "metadata": {
        "colab": {
          "base_uri": "https://localhost:8080/"
        },
        "id": "rgyXr5C68Zw-",
        "outputId": "68ac980c-1f47-4197-8aeb-3150d7a7017e"
      },
      "execution_count": null,
      "outputs": [
        {
          "output_type": "stream",
          "name": "stdout",
          "text": [
            "shortest path : [[0, 0], [1, 0], [2, 0], [2, 1], [2, 2], [1, 2], [0, 2]]\n",
            "Reverse path : [[0, 2], [1, 2], [2, 2], [2, 1], [2, 0], [1, 0], [0, 0]]\n"
          ]
        }
      ]
    },
    {
      "cell_type": "code",
      "source": [
        "rewards"
      ],
      "metadata": {
        "colab": {
          "base_uri": "https://localhost:8080/"
        },
        "id": "qIk02SR0DGOB",
        "outputId": "3a11ab69-3f34-4d82-9527-ae996b01c41a"
      },
      "execution_count": null,
      "outputs": [
        {
          "output_type": "execute_result",
          "data": {
            "text/plain": [
              "array([[ -1, -50,   1, -50, -50],\n",
              "       [ -1, -50,  -1,  -1,  -1],\n",
              "       [ -1,  -1,  -1,  -1,  -1],\n",
              "       [ -1,  -1, -50,  -1,  -1],\n",
              "       [ -1,  -1, -50, -50,  -1]])"
            ]
          },
          "metadata": {},
          "execution_count": 60
        }
      ]
    },
    {
      "cell_type": "code",
      "source": [
        "Q_table"
      ],
      "metadata": {
        "colab": {
          "base_uri": "https://localhost:8080/"
        },
        "id": "iKMVa9TKDYM3",
        "outputId": "f8a7438a-0994-43e8-a41c-fca8623459e8"
      },
      "execution_count": null,
      "outputs": [
        {
          "output_type": "execute_result",
          "data": {
            "text/plain": [
              "array([[[ -4.12147739,  -3.50461   ,  -4.1502043 , -49.5       ],\n",
              "        [  0.        ,   0.        ,   0.        ,   0.        ],\n",
              "        [  0.        ,   0.        ,   0.        ,   0.        ],\n",
              "        [  0.        ,   0.        ,   0.        ,   0.        ],\n",
              "        [  0.        ,   0.        ,   0.        ,   0.        ]],\n",
              "\n",
              "       [[ -4.14965949,  -2.7829    ,  -3.50458667, -49.5       ],\n",
              "        [  0.        ,   0.        ,   0.        ,   0.        ],\n",
              "        [  1.        ,  -1.09      , -50.        ,  -1.09      ],\n",
              "        [-50.        ,  -1.98099999,  -0.1       ,  -1.981     ],\n",
              "        [-49.9999995 ,  -2.78289894,  -1.09      ,  -1.981     ]],\n",
              "\n",
              "       [[ -3.50460999,  -3.50450597,  -2.7829    ,  -1.981     ],\n",
              "        [-49.9999995 ,  -2.78289995,  -2.7829    ,  -1.09      ],\n",
              "        [ -0.1       , -50.        ,  -1.981     ,  -1.981     ],\n",
              "        [ -1.09      ,  -2.7829    ,  -1.09      ,  -2.78289888],\n",
              "        [ -1.981     ,  -3.50357697,  -1.981     ,  -2.7829    ]],\n",
              "\n",
              "       [[ -2.7829    ,  -4.14403254,  -3.50098894,  -2.7829    ],\n",
              "        [ -1.981     ,  -3.393288  ,  -3.5036506 , -49.95      ],\n",
              "        [  0.        ,   0.        ,   0.        ,   0.        ],\n",
              "        [ -1.981     , -49.995     , -49.9995    ,  -3.4942158 ],\n",
              "        [ -2.7829    ,  -4.15242636,  -2.7829    ,  -3.50098894]],\n",
              "\n",
              "       [[ -3.50461   ,  -4.11452094,  -3.75967855,  -3.50461   ],\n",
              "        [ -2.7829    ,  -3.50457379,  -4.14953337, -49.5       ],\n",
              "        [  0.        ,   0.        ,   0.        ,   0.        ],\n",
              "        [  0.        ,   0.        ,   0.        ,   0.        ],\n",
              "        [ -3.50461   ,  -4.1502043 , -49.995     ,  -4.15374901]]])"
            ]
          },
          "metadata": {},
          "execution_count": 21
        }
      ]
    },
    {
      "cell_type": "markdown",
      "source": [
        "# DEEP Q LEARNING"
      ],
      "metadata": {
        "id": "9ND0lyKbc5iJ"
      }
    },
    {
      "cell_type": "code",
      "source": [
        "grid_world = np.array([\n",
        "    [0, 0, 0],\n",
        "    [0, -1, 0],\n",
        "    [0, 0, 1]\n",
        "])\n",
        "\n",
        "print(grid_world)"
      ],
      "metadata": {
        "colab": {
          "base_uri": "https://localhost:8080/"
        },
        "id": "SQGK8Qk7d_L6",
        "outputId": "879c653b-8b08-4c60-824f-ead02c96e13e"
      },
      "execution_count": null,
      "outputs": [
        {
          "output_type": "stream",
          "name": "stdout",
          "text": [
            "[[ 0  0  0]\n",
            " [ 0 -1  0]\n",
            " [ 0  0  1]]\n"
          ]
        }
      ]
    },
    {
      "cell_type": "code",
      "source": [
        "import torch"
      ],
      "metadata": {
        "id": "EIkuB3mZe5-e"
      },
      "execution_count": null,
      "outputs": []
    },
    {
      "cell_type": "code",
      "source": [
        "torch.tensor(grid_world.flat[:])"
      ],
      "metadata": {
        "colab": {
          "base_uri": "https://localhost:8080/"
        },
        "id": "ox0MC32sekJe",
        "outputId": "a2ad4cf1-9639-4a09-93fd-ec876cb76146"
      },
      "execution_count": null,
      "outputs": [
        {
          "output_type": "execute_result",
          "data": {
            "text/plain": [
              "tensor([ 0,  0,  0,  0, -1,  0,  0,  0,  1])"
            ]
          },
          "metadata": {},
          "execution_count": 31
        }
      ]
    },
    {
      "cell_type": "code",
      "source": [
        "import numpy as np\n",
        "import torch\n",
        "import torch.nn as nn\n",
        "import torch.optim as optim\n",
        "\n",
        "# Define the grid world environment\n",
        "# 0: empty, -1: obstacle, 1: goal\n",
        "grid_world = np.array([\n",
        "    [0, 0, 0],\n",
        "    [0, -1, 0],\n",
        "    [0, 0, 1]\n",
        "])\n",
        "\n",
        "# Define the Q-network\n",
        "class QNetwork(nn.Module):\n",
        "    def __init__(self, input_size, output_size):\n",
        "        super(QNetwork, self).__init__()\n",
        "        self.fc1 = nn.Linear(input_size, 64)\n",
        "        self.fc2 = nn.Linear(64, 64)\n",
        "        self.fc3 = nn.Linear(64, output_size)\n",
        "\n",
        "    def forward(self, x):\n",
        "        x = torch.relu(self.fc1(x))\n",
        "        x = torch.relu(self.fc2(x))\n",
        "        x = self.fc3(x)\n",
        "        return x\n",
        "\n",
        "# Hyperparameters\n",
        "learning_rate = 0.001\n",
        "gamma = 0.9\n",
        "epsilon = 0.1\n",
        "num_episodes = 1000\n",
        "batch_size = 32\n",
        "\n",
        "# Initialize Q-network and optimizer\n",
        "input_size = grid_world.size\n",
        "output_size = 4  # up, down, left, right\n",
        "q_network = QNetwork(input_size, output_size)\n",
        "optimizer = optim.Adam(q_network.parameters(), lr=learning_rate)\n",
        "\n",
        "# Deep Q-learning algorithm\n",
        "for episode in range(num_episodes):\n",
        "    state = 0  # Start state (top-left corner)\n",
        "    done = False\n",
        "\n",
        "    while not done:\n",
        "        q_values = q_network(torch.tensor(grid_world.flat[state], dtype=torch.float32))\n",
        "\n",
        "        if np.random.rand() < epsilon:  # Exploration\n",
        "            action = np.random.randint(output_size)\n",
        "        else:  # Exploitation\n",
        "            action = torch.argmax(q_values).item()\n",
        "\n",
        "        next_state = state + (action // 2) * 3  # Calculate the next state based on the action\n",
        "\n",
        "        if grid_world.flat[next_state] == -1:  # Hit an obstacle\n",
        "            reward = -1\n",
        "            next_state = state\n",
        "        elif grid_world.flat[next_state] == 1:  # Reached the goal\n",
        "            reward = 1\n",
        "            done = True\n",
        "        else:  # Empty cell\n",
        "            reward = 0\n",
        "\n",
        "        # Update Q-values using Bellman equation and deep Q-learning\n",
        "        q_values_next = q_network(torch.tensor(grid_world.flat[next_state], dtype=torch.float32))\n",
        "        target_q = reward + gamma * torch.max(q_values_next) if not done else reward\n",
        "\n",
        "        loss = nn.MSELoss()(q_values[action], target_q)\n",
        "\n",
        "        optimizer.zero_grad()\n",
        "        loss.backward()\n",
        "        optimizer.step()\n",
        "\n",
        "        state = next_state\n",
        "\n",
        "    if episode % 100 == 0:\n",
        "        print(f\"Episode {episode}: Total reward = {reward}\")\n",
        "\n",
        "# Print the learned Q-network\n",
        "print(\"Learned Q-network:\")\n",
        "print(q_network)\n"
      ],
      "metadata": {
        "id": "q-kDmbFlEtPt",
        "colab": {
          "base_uri": "https://localhost:8080/",
          "height": 406
        },
        "outputId": "8678ed08-b840-4893-f49c-665026eef047"
      },
      "execution_count": null,
      "outputs": [
        {
          "output_type": "error",
          "ename": "RuntimeError",
          "evalue": "ignored",
          "traceback": [
            "\u001b[0;31m---------------------------------------------------------------------------\u001b[0m",
            "\u001b[0;31mRuntimeError\u001b[0m                              Traceback (most recent call last)",
            "\u001b[0;32m<ipython-input-32-fd174e3d3414>\u001b[0m in \u001b[0;36m<cell line: 42>\u001b[0;34m()\u001b[0m\n\u001b[1;32m     45\u001b[0m \u001b[0;34m\u001b[0m\u001b[0m\n\u001b[1;32m     46\u001b[0m     \u001b[0;32mwhile\u001b[0m \u001b[0;32mnot\u001b[0m \u001b[0mdone\u001b[0m\u001b[0;34m:\u001b[0m\u001b[0;34m\u001b[0m\u001b[0;34m\u001b[0m\u001b[0m\n\u001b[0;32m---> 47\u001b[0;31m         \u001b[0mq_values\u001b[0m \u001b[0;34m=\u001b[0m \u001b[0mq_network\u001b[0m\u001b[0;34m(\u001b[0m\u001b[0mtorch\u001b[0m\u001b[0;34m.\u001b[0m\u001b[0mtensor\u001b[0m\u001b[0;34m(\u001b[0m\u001b[0mgrid_world\u001b[0m\u001b[0;34m.\u001b[0m\u001b[0mflat\u001b[0m\u001b[0;34m[\u001b[0m\u001b[0mstate\u001b[0m\u001b[0;34m]\u001b[0m\u001b[0;34m,\u001b[0m \u001b[0mdtype\u001b[0m\u001b[0;34m=\u001b[0m\u001b[0mtorch\u001b[0m\u001b[0;34m.\u001b[0m\u001b[0mfloat32\u001b[0m\u001b[0;34m)\u001b[0m\u001b[0;34m)\u001b[0m\u001b[0;34m\u001b[0m\u001b[0;34m\u001b[0m\u001b[0m\n\u001b[0m\u001b[1;32m     48\u001b[0m \u001b[0;34m\u001b[0m\u001b[0m\n\u001b[1;32m     49\u001b[0m         \u001b[0;32mif\u001b[0m \u001b[0mnp\u001b[0m\u001b[0;34m.\u001b[0m\u001b[0mrandom\u001b[0m\u001b[0;34m.\u001b[0m\u001b[0mrand\u001b[0m\u001b[0;34m(\u001b[0m\u001b[0;34m)\u001b[0m \u001b[0;34m<\u001b[0m \u001b[0mepsilon\u001b[0m\u001b[0;34m:\u001b[0m  \u001b[0;31m# Exploration\u001b[0m\u001b[0;34m\u001b[0m\u001b[0;34m\u001b[0m\u001b[0m\n",
            "\u001b[0;32m/usr/local/lib/python3.10/dist-packages/torch/nn/modules/module.py\u001b[0m in \u001b[0;36m_call_impl\u001b[0;34m(self, *args, **kwargs)\u001b[0m\n\u001b[1;32m   1499\u001b[0m                 \u001b[0;32mor\u001b[0m \u001b[0m_global_backward_pre_hooks\u001b[0m \u001b[0;32mor\u001b[0m \u001b[0m_global_backward_hooks\u001b[0m\u001b[0;34m\u001b[0m\u001b[0;34m\u001b[0m\u001b[0m\n\u001b[1;32m   1500\u001b[0m                 or _global_forward_hooks or _global_forward_pre_hooks):\n\u001b[0;32m-> 1501\u001b[0;31m             \u001b[0;32mreturn\u001b[0m \u001b[0mforward_call\u001b[0m\u001b[0;34m(\u001b[0m\u001b[0;34m*\u001b[0m\u001b[0margs\u001b[0m\u001b[0;34m,\u001b[0m \u001b[0;34m**\u001b[0m\u001b[0mkwargs\u001b[0m\u001b[0;34m)\u001b[0m\u001b[0;34m\u001b[0m\u001b[0;34m\u001b[0m\u001b[0m\n\u001b[0m\u001b[1;32m   1502\u001b[0m         \u001b[0;31m# Do not call functions when jit is used\u001b[0m\u001b[0;34m\u001b[0m\u001b[0;34m\u001b[0m\u001b[0m\n\u001b[1;32m   1503\u001b[0m         \u001b[0mfull_backward_hooks\u001b[0m\u001b[0;34m,\u001b[0m \u001b[0mnon_full_backward_hooks\u001b[0m \u001b[0;34m=\u001b[0m \u001b[0;34m[\u001b[0m\u001b[0;34m]\u001b[0m\u001b[0;34m,\u001b[0m \u001b[0;34m[\u001b[0m\u001b[0;34m]\u001b[0m\u001b[0;34m\u001b[0m\u001b[0;34m\u001b[0m\u001b[0m\n",
            "\u001b[0;32m<ipython-input-32-fd174e3d3414>\u001b[0m in \u001b[0;36mforward\u001b[0;34m(self, x)\u001b[0m\n\u001b[1;32m     21\u001b[0m \u001b[0;34m\u001b[0m\u001b[0m\n\u001b[1;32m     22\u001b[0m     \u001b[0;32mdef\u001b[0m \u001b[0mforward\u001b[0m\u001b[0;34m(\u001b[0m\u001b[0mself\u001b[0m\u001b[0;34m,\u001b[0m \u001b[0mx\u001b[0m\u001b[0;34m)\u001b[0m\u001b[0;34m:\u001b[0m\u001b[0;34m\u001b[0m\u001b[0;34m\u001b[0m\u001b[0m\n\u001b[0;32m---> 23\u001b[0;31m         \u001b[0mx\u001b[0m \u001b[0;34m=\u001b[0m \u001b[0mtorch\u001b[0m\u001b[0;34m.\u001b[0m\u001b[0mrelu\u001b[0m\u001b[0;34m(\u001b[0m\u001b[0mself\u001b[0m\u001b[0;34m.\u001b[0m\u001b[0mfc1\u001b[0m\u001b[0;34m(\u001b[0m\u001b[0mx\u001b[0m\u001b[0;34m)\u001b[0m\u001b[0;34m)\u001b[0m\u001b[0;34m\u001b[0m\u001b[0;34m\u001b[0m\u001b[0m\n\u001b[0m\u001b[1;32m     24\u001b[0m         \u001b[0mx\u001b[0m \u001b[0;34m=\u001b[0m \u001b[0mtorch\u001b[0m\u001b[0;34m.\u001b[0m\u001b[0mrelu\u001b[0m\u001b[0;34m(\u001b[0m\u001b[0mself\u001b[0m\u001b[0;34m.\u001b[0m\u001b[0mfc2\u001b[0m\u001b[0;34m(\u001b[0m\u001b[0mx\u001b[0m\u001b[0;34m)\u001b[0m\u001b[0;34m)\u001b[0m\u001b[0;34m\u001b[0m\u001b[0;34m\u001b[0m\u001b[0m\n\u001b[1;32m     25\u001b[0m         \u001b[0mx\u001b[0m \u001b[0;34m=\u001b[0m \u001b[0mself\u001b[0m\u001b[0;34m.\u001b[0m\u001b[0mfc3\u001b[0m\u001b[0;34m(\u001b[0m\u001b[0mx\u001b[0m\u001b[0;34m)\u001b[0m\u001b[0;34m\u001b[0m\u001b[0;34m\u001b[0m\u001b[0m\n",
            "\u001b[0;32m/usr/local/lib/python3.10/dist-packages/torch/nn/modules/module.py\u001b[0m in \u001b[0;36m_call_impl\u001b[0;34m(self, *args, **kwargs)\u001b[0m\n\u001b[1;32m   1499\u001b[0m                 \u001b[0;32mor\u001b[0m \u001b[0m_global_backward_pre_hooks\u001b[0m \u001b[0;32mor\u001b[0m \u001b[0m_global_backward_hooks\u001b[0m\u001b[0;34m\u001b[0m\u001b[0;34m\u001b[0m\u001b[0m\n\u001b[1;32m   1500\u001b[0m                 or _global_forward_hooks or _global_forward_pre_hooks):\n\u001b[0;32m-> 1501\u001b[0;31m             \u001b[0;32mreturn\u001b[0m \u001b[0mforward_call\u001b[0m\u001b[0;34m(\u001b[0m\u001b[0;34m*\u001b[0m\u001b[0margs\u001b[0m\u001b[0;34m,\u001b[0m \u001b[0;34m**\u001b[0m\u001b[0mkwargs\u001b[0m\u001b[0;34m)\u001b[0m\u001b[0;34m\u001b[0m\u001b[0;34m\u001b[0m\u001b[0m\n\u001b[0m\u001b[1;32m   1502\u001b[0m         \u001b[0;31m# Do not call functions when jit is used\u001b[0m\u001b[0;34m\u001b[0m\u001b[0;34m\u001b[0m\u001b[0m\n\u001b[1;32m   1503\u001b[0m         \u001b[0mfull_backward_hooks\u001b[0m\u001b[0;34m,\u001b[0m \u001b[0mnon_full_backward_hooks\u001b[0m \u001b[0;34m=\u001b[0m \u001b[0;34m[\u001b[0m\u001b[0;34m]\u001b[0m\u001b[0;34m,\u001b[0m \u001b[0;34m[\u001b[0m\u001b[0;34m]\u001b[0m\u001b[0;34m\u001b[0m\u001b[0;34m\u001b[0m\u001b[0m\n",
            "\u001b[0;32m/usr/local/lib/python3.10/dist-packages/torch/nn/modules/linear.py\u001b[0m in \u001b[0;36mforward\u001b[0;34m(self, input)\u001b[0m\n\u001b[1;32m    112\u001b[0m \u001b[0;34m\u001b[0m\u001b[0m\n\u001b[1;32m    113\u001b[0m     \u001b[0;32mdef\u001b[0m \u001b[0mforward\u001b[0m\u001b[0;34m(\u001b[0m\u001b[0mself\u001b[0m\u001b[0;34m,\u001b[0m \u001b[0minput\u001b[0m\u001b[0;34m:\u001b[0m \u001b[0mTensor\u001b[0m\u001b[0;34m)\u001b[0m \u001b[0;34m->\u001b[0m \u001b[0mTensor\u001b[0m\u001b[0;34m:\u001b[0m\u001b[0;34m\u001b[0m\u001b[0;34m\u001b[0m\u001b[0m\n\u001b[0;32m--> 114\u001b[0;31m         \u001b[0;32mreturn\u001b[0m \u001b[0mF\u001b[0m\u001b[0;34m.\u001b[0m\u001b[0mlinear\u001b[0m\u001b[0;34m(\u001b[0m\u001b[0minput\u001b[0m\u001b[0;34m,\u001b[0m \u001b[0mself\u001b[0m\u001b[0;34m.\u001b[0m\u001b[0mweight\u001b[0m\u001b[0;34m,\u001b[0m \u001b[0mself\u001b[0m\u001b[0;34m.\u001b[0m\u001b[0mbias\u001b[0m\u001b[0;34m)\u001b[0m\u001b[0;34m\u001b[0m\u001b[0;34m\u001b[0m\u001b[0m\n\u001b[0m\u001b[1;32m    115\u001b[0m \u001b[0;34m\u001b[0m\u001b[0m\n\u001b[1;32m    116\u001b[0m     \u001b[0;32mdef\u001b[0m \u001b[0mextra_repr\u001b[0m\u001b[0;34m(\u001b[0m\u001b[0mself\u001b[0m\u001b[0;34m)\u001b[0m \u001b[0;34m->\u001b[0m \u001b[0mstr\u001b[0m\u001b[0;34m:\u001b[0m\u001b[0;34m\u001b[0m\u001b[0;34m\u001b[0m\u001b[0m\n",
            "\u001b[0;31mRuntimeError\u001b[0m: both arguments to matmul need to be at least 1D, but they are 0D and 2D"
          ]
        }
      ]
    },
    {
      "cell_type": "code",
      "source": [],
      "metadata": {
        "id": "HEaZDMOagact"
      },
      "execution_count": null,
      "outputs": []
    }
  ]
}